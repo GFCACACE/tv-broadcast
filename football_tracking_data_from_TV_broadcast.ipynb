{
  "cells": [
    {
      "cell_type": "code",
      "execution_count": null,
      "metadata": {
        "id": "hSqhlBmM-2sv"
      },
      "outputs": [],
      "source": [
        "# to add your google drive to colab , in order to import any data on it\n",
        "\n",
        "from google.colab import drive\n",
        "drive.mount('/content/drive')"
      ]
    },
    {
      "cell_type": "code",
      "execution_count": null,
      "metadata": {
        "id": "6tKP-B-k_FQB"
      },
      "outputs": [],
      "source": [
        "#check torch version\n",
        "import torch\n",
        "TORCH_VERSION = \".\".join(torch.__version__.split(\".\")[:2])\n",
        "CUDA_VERSION = torch.__version__.split(\"+\")[-1]\n",
        "print(\"torch: \", TORCH_VERSION, \"; cuda: \", CUDA_VERSION)"
      ]
    },
    {
      "cell_type": "code",
      "execution_count": null,
      "metadata": {
        "id": "BKqWrQxf_KjL"
      },
      "outputs": [],
      "source": [
        "# test: showing and resizing an image form drive\n",
        "\n",
        "import cv2\n",
        "from google.colab.patches import cv2_imshow\n",
        "import matplotlib.pyplot as plt\n",
        "img = cv2.imread('/content/drive/MyDrive/test.JPG')\n",
        "img = cv2.resize(img, (1280,720))\n",
        "print(img.shape)\n",
        "cv2_imshow(img)"
      ]
    },
    {
      "cell_type": "code",
      "execution_count": null,
      "metadata": {
        "id": "huVK5eIr_Mny"
      },
      "outputs": [],
      "source": [
        "#clone the Repo to colab\n",
        "# Note: No need to install the dependencies on colab, as they are already instaled\n",
        "%cd /content\n",
        "!git clone https://github.com/JooZef315/football-tracking-data-from-TV-broadcast\n",
        "%cd /content/football-tracking-data-from-TV-broadcast\n",
        "# !pip install -r requirements.txt # install"
      ]
    },
    {
      "cell_type": "markdown",
      "metadata": {
        "id": "Twumsrw1_aZR"
      },
      "source": [
        "# Try Demo functions"
      ]
    },
    {
      "cell_type": "code",
      "execution_count": null,
      "metadata": {
        "id": "Hmy6JGWE_v8A"
      },
      "outputs": [],
      "source": [
        "#call detect_demo with path of any image of a football match footage, the function would show the image with players and ball detected, \n",
        "#and return the coordinates of the bounding boxes\n",
        "\n",
        "from Detect_and_Track.demo_detection import detect_demo\n",
        "\n",
        "%matplotlib inline\n",
        "ii, c = detect_demo('../drive/MyDrive/test.JPG')"
      ]
    },
    {
      "cell_type": "code",
      "execution_count": null,
      "metadata": {
        "id": "QE9mX7JI_01i"
      },
      "outputs": [],
      "source": [
        "from Detect_and_Track.demo_tracking import track_demo\n",
        "\n",
        "%matplotlib inline\n",
        "track_demo('../drive/MyDrive/testVid.mp4' , out_name = 'demo')"
      ]
    },
    {
      "cell_type": "code",
      "execution_count": null,
      "metadata": {
        "id": "_AAg1IaE_3YR"
      },
      "outputs": [],
      "source": [
        "#try init_df_demo function, to generate intial dataframe(with unmapped coordinates relative to TV video) on a single image\n",
        "from Detect_and_Track.demo_initial_df import init_df_demo\n",
        "\n",
        "%matplotlib inline\n",
        "init_df_demo('../drive/MyDrive/test.JPG', ['red', 'white', 'blue', None, 'yellow', 'white'])"
      ]
    },
    {
      "cell_type": "code",
      "execution_count": null,
      "metadata": {
        "id": "gQA8Kn8O__D4"
      },
      "outputs": [],
      "source": [
        "from projection_2D.demo_mapping import demo_mapping\n",
        "\n",
        "demo_mapping('../drive/MyDrive/test.JPG')"
      ]
    },
    {
      "cell_type": "markdown",
      "metadata": {
        "id": "MI73aftsAB3x"
      },
      "source": [
        "# Get tracking data"
      ]
    },
    {
      "cell_type": "code",
      "execution_count": null,
      "metadata": {
        "id": "ssDfkz4wAeHo"
      },
      "outputs": [],
      "source": [
        "#call get_init_data function with arguments:\n",
        "#TV video path, a name to name output video and the intial dataframe(with unmapped coordinates relative to TV video),\n",
        "#and list of two teams colors as described in create_df.py file\n",
        "\n",
        "from Detect_and_Track.get_init_data import get_init_data\n",
        "\n",
        "init_df = get_init_data('../drive/MyDrive/GP/testVid.mp4', 'testdf', ['white', None, 'red', None, 'green', 'white'])"
      ]
    },
    {
      "cell_type": "code",
      "execution_count": null,
      "metadata": {
        "id": "unPfmlqbAlp5"
      },
      "outputs": [],
      "source": [
        "init_df.head()"
      ]
    },
    {
      "cell_type": "markdown",
      "metadata": {
        "id": "QRhw312-ApdL"
      },
      "source": [
        "#### the output video with players and ball tracked, and  the intial dataframe would be saved in **\"Out/\"**, use them as arguments to **get_tracking_data** function, to generate the final tracking data dataframe"
      ]
    },
    {
      "cell_type": "code",
      "execution_count": null,
      "metadata": {
        "id": "71BwhghZAp7H"
      },
      "outputs": [],
      "source": [
        "#the output is a dataframe with players and ball tracked and mapped to 2D pitch,  which would be saved in \"Out/\" too.\n",
        "\n",
        "from projection_2D.get_tracking_data import get_tracking_data\n",
        "%matplotlib inline\n",
        "\n",
        "tracking_df = get_tracking_data('./Out/testdf_init_df.csv', './Out/testVid_out.mp4', 'tracking_df')"
      ]
    }
  ],
  "metadata": {
    "colab": {
      "name": "football tracking data from TV broadcast.ipynb",
      "provenance": []
    },
    "kernelspec": {
      "display_name": "Python 3.8.2 64-bit",
      "language": "python",
      "name": "python3"
    },
    "language_info": {
      "name": "python",
      "version": "3.8.2"
    },
    "vscode": {
      "interpreter": {
        "hash": "9650cb4e16cdd4a8e8e2d128bf38d875813998db22a3c986335f89e0cb4d7bb2"
      }
    }
  },
  "nbformat": 4,
  "nbformat_minor": 0
}
